{
 "cells": [
  {
   "cell_type": "code",
   "execution_count": 1,
   "metadata": {},
   "outputs": [
    {
     "name": "stderr",
     "output_type": "stream",
     "text": [
      "2022-12-08 22:08:36.125237: W tensorflow/stream_executor/platform/default/dso_loader.cc:64] Could not load dynamic library 'libcudart.so.11.0'; dlerror: libcudart.so.11.0: cannot open shared object file: No such file or directory; LD_LIBRARY_PATH: :/opt/gurobi1000/linux64/lib\n",
      "2022-12-08 22:08:36.125266: I tensorflow/stream_executor/cuda/cudart_stub.cc:29] Ignore above cudart dlerror if you do not have a GPU set up on your machine.\n",
      "WARNING:root:'PYARROW_IGNORE_TIMEZONE' environment variable was not set. It is required to set this environment variable to '1' in both driver and executor sides if you use pyarrow>=2.0.0. pandas-on-Spark will set it for you but it does not work if there is a Spark context already launched.\n"
     ]
    },
    {
     "name": "stdout",
     "output_type": "stream",
     "text": [
      "22/12/08 22:08:39 WARN Utils: Your hostname, teofil-ubuntu resolves to a loopback address: 127.0.1.1; using 192.168.100.4 instead (on interface wlp4s0)\n",
      "22/12/08 22:08:39 WARN Utils: Set SPARK_LOCAL_IP if you need to bind to another address\n"
     ]
    },
    {
     "name": "stderr",
     "output_type": "stream",
     "text": [
      "Setting default log level to \"WARN\".\n",
      "To adjust logging level use sc.setLogLevel(newLevel). For SparkR, use setLogLevel(newLevel).\n"
     ]
    },
    {
     "name": "stdout",
     "output_type": "stream",
     "text": [
      "22/12/08 22:08:40 WARN NativeCodeLoader: Unable to load native-hadoop library for your platform... using builtin-java classes where applicable\n"
     ]
    }
   ],
   "source": [
    "import os\n",
    "import numpy as np\n",
    "import pandas as pd\n",
    "import tensorflow as tf\n",
    "import pyspark.pandas as ps\n",
    "import matplotlib.pyplot as plt\n",
    "from pyspark.sql import SparkSession\n",
    "from waymo_open_dataset.protos import scenario_pb2 \n",
    "\n",
    "spark = SparkSession.builder.appName(\"echipa team\").getOrCreate()\n",
    "sc = spark.sparkContext"
   ]
  },
  {
   "cell_type": "code",
   "execution_count": 2,
   "metadata": {},
   "outputs": [
    {
     "name": "stderr",
     "output_type": "stream",
     "text": [
      "2022-12-08 22:08:45.031006: I tensorflow/stream_executor/cuda/cuda_gpu_executor.cc:937] successful NUMA node read from SysFS had negative value (-1), but there must be at least one NUMA node, so returning NUMA node zero\n",
      "2022-12-08 22:08:45.031247: W tensorflow/stream_executor/platform/default/dso_loader.cc:64] Could not load dynamic library 'libcudart.so.11.0'; dlerror: libcudart.so.11.0: cannot open shared object file: No such file or directory; LD_LIBRARY_PATH: :/opt/gurobi1000/linux64/lib\n",
      "2022-12-08 22:08:45.031302: W tensorflow/stream_executor/platform/default/dso_loader.cc:64] Could not load dynamic library 'libcublas.so.11'; dlerror: libcublas.so.11: cannot open shared object file: No such file or directory; LD_LIBRARY_PATH: :/opt/gurobi1000/linux64/lib\n",
      "2022-12-08 22:08:45.031348: W tensorflow/stream_executor/platform/default/dso_loader.cc:64] Could not load dynamic library 'libcublasLt.so.11'; dlerror: libcublasLt.so.11: cannot open shared object file: No such file or directory; LD_LIBRARY_PATH: :/opt/gurobi1000/linux64/lib\n",
      "2022-12-08 22:08:45.031392: W tensorflow/stream_executor/platform/default/dso_loader.cc:64] Could not load dynamic library 'libcufft.so.10'; dlerror: libcufft.so.10: cannot open shared object file: No such file or directory; LD_LIBRARY_PATH: :/opt/gurobi1000/linux64/lib\n",
      "2022-12-08 22:08:45.031458: W tensorflow/stream_executor/platform/default/dso_loader.cc:64] Could not load dynamic library 'libcurand.so.10'; dlerror: libcurand.so.10: cannot open shared object file: No such file or directory; LD_LIBRARY_PATH: :/opt/gurobi1000/linux64/lib\n",
      "2022-12-08 22:08:45.031508: W tensorflow/stream_executor/platform/default/dso_loader.cc:64] Could not load dynamic library 'libcusolver.so.11'; dlerror: libcusolver.so.11: cannot open shared object file: No such file or directory; LD_LIBRARY_PATH: :/opt/gurobi1000/linux64/lib\n",
      "2022-12-08 22:08:45.031553: W tensorflow/stream_executor/platform/default/dso_loader.cc:64] Could not load dynamic library 'libcusparse.so.11'; dlerror: libcusparse.so.11: cannot open shared object file: No such file or directory; LD_LIBRARY_PATH: :/opt/gurobi1000/linux64/lib\n",
      "2022-12-08 22:08:45.031597: W tensorflow/stream_executor/platform/default/dso_loader.cc:64] Could not load dynamic library 'libcudnn.so.8'; dlerror: libcudnn.so.8: cannot open shared object file: No such file or directory; LD_LIBRARY_PATH: :/opt/gurobi1000/linux64/lib\n",
      "2022-12-08 22:08:45.031608: W tensorflow/core/common_runtime/gpu/gpu_device.cc:1835] Cannot dlopen some GPU libraries. Please make sure the missing libraries mentioned above are installed properly if you would like to use GPU. Follow the guide at https://www.tensorflow.org/install/gpu for how to download and setup the required libraries for your platform.\n",
      "Skipping registering GPU devices...\n",
      "2022-12-08 22:08:45.032023: I tensorflow/core/platform/cpu_feature_guard.cc:142] This TensorFlow binary is optimized with oneAPI Deep Neural Network Library (oneDNN) to use the following CPU instructions in performance-critical operations:  AVX2 FMA\n",
      "To enable them in other operations, rebuild TensorFlow with the appropriate compiler flags.\n",
      "2022-12-08 22:08:45.061103: I tensorflow/compiler/mlir/mlir_graph_optimization_pass.cc:185] None of the MLIR Optimization Passes are enabled (registered 2)\n"
     ]
    }
   ],
   "source": [
    "DIRNAME = 'one'\n",
    "scenarios = []\n",
    "for filename in os.listdir(DIRNAME):\n",
    "    filepath = os.path.join(DIRNAME, filename)\n",
    "    dataset = tf.data.TFRecordDataset(filepath)\n",
    "    for data in dataset:\n",
    "        proto_string = data.numpy()\n",
    "        proto = scenario_pb2.Scenario()\n",
    "        proto.ParseFromString(proto_string)\n",
    "\n",
    "        scenarios.append(proto)"
   ]
  },
  {
   "cell_type": "code",
   "execution_count": 3,
   "metadata": {},
   "outputs": [
    {
     "data": {
      "text/plain": [
       "(446, 30838)"
      ]
     },
     "execution_count": 3,
     "metadata": {},
     "output_type": "execute_result"
    }
   ],
   "source": [
    "len(scenarios), sum([len(scenario.tracks) for scenario in scenarios])"
   ]
  },
  {
   "cell_type": "code",
   "execution_count": 48,
   "metadata": {},
   "outputs": [
    {
     "name": "stderr",
     "output_type": "stream",
     "text": [
      "/home/teofil/anaconda3/lib/python3.9/site-packages/pyspark/pandas/utils.py:975: PandasAPIOnSparkAdviceWarning: If `index_col` is not specified for `to_spark`, the existing index is lost when converting to Spark DataFrame.\n",
      "  warnings.warn(message, PandasAPIOnSparkAdviceWarning)\n"
     ]
    }
   ],
   "source": [
    "# track = scenarios[0].tracks[0]\n",
    "def state_to_array(track, column):\n",
    "    return np.array(\n",
    "        [getattr(state, column) for state in track.states],\n",
    "        dtype='float'\n",
    "    )\n",
    "        \n",
    "state_columns = [\n",
    "    'center_x', \n",
    "    'center_y', \n",
    "    'center_z', \n",
    "    'heading', \n",
    "    'velocity_x', \n",
    "    'velocity_y', \n",
    "    'valid'\n",
    "]\n",
    "columns = ['scenario_id', 'track_id', 'object_type'] + state_columns\n",
    "track_entries = []\n",
    "for scenario in scenarios[:1]:\n",
    "    for track in scenario.tracks:\n",
    "        entry = [\n",
    "            scenario.scenario_id, \n",
    "            track.id, \n",
    "            track.object_type\n",
    "        ]\n",
    "        for column in state_columns:\n",
    "            arr = state_to_array(track, column)\n",
    "            if column in ['center_x','center_y', 'center_z']:\n",
    "                arr -= arr[0]\n",
    "            entry.append(arr.tolist())\n",
    "        \n",
    "        track_entries.append(entry)\n",
    "psdf = ps.DataFrame(track_entries, columns=columns)\n",
    "sdf = psdf.to_spark() #index_col='index'"
   ]
  },
  {
   "cell_type": "code",
   "execution_count": 49,
   "metadata": {},
   "outputs": [
    {
     "data": {
      "text/plain": [
       "(446, 100)"
      ]
     },
     "execution_count": 49,
     "metadata": {},
     "output_type": "execute_result"
    }
   ],
   "source": [
    "len(scenarios), len(track_entries)"
   ]
  },
  {
   "cell_type": "code",
   "execution_count": 56,
   "metadata": {},
   "outputs": [
    {
     "data": {
      "image/png": "[encoded data removed]",
      "text/plain": [
       "<Figure size 432x288 with 1 Axes>"
      ]
     },
     "metadata": {
      "needs_background": "light"
     },
     "output_type": "display_data"
    }
   ],
   "source": [
    "\n",
    "def plot_hist(sdf, column, buckets):\n",
    "  hist = sdf.select(\n",
    "    column\n",
    "  ).rdd.flatMap(\n",
    "    lambda x: x\n",
    "  ).flatMap(lambda x: [i for i in x]).histogram(buckets)\n",
    "  values, counts = hist\n",
    "  # pairs = list(zip(counts, values))\n",
    "  # pairs.sort(key=lambda p: p[1])\n",
    "  # counts = [pair[0] for pair in pairs]\n",
    "  # values = [pair[1] for pair in pairs]\n",
    "  plt.bar(x=values[:-1], height=counts, width=np.diff(values), align='edge', log=True);\n",
    "  # plt.xlim((-5,5));\n",
    "  plt.show();\n",
    "  # y_pos = np.arange(len(counts))\n",
    "  # if x_strings:\n",
    "  #   plt.xticks(y_pos, x_strings)\n",
    "  # plt.bar(y_pos, counts, align='center')\n",
    "  # plt.ylabel('Usage')\n",
    "  # plt.title('Object type');\n",
    "plot_hist(sdf, 'velocity_x', 1000);"
   ]
  },
  {
   "cell_type": "code",
   "execution_count": 57,
   "metadata": {},
   "outputs": [
    {
     "data": {
      "image/png": "[encoded data removed]",
      "text/plain": [
       "<Figure size 432x288 with 1 Axes>"
      ]
     },
     "metadata": {
      "needs_background": "light"
     },
     "output_type": "display_data"
    }
   ],
   "source": [
    "\n",
    "plot_hist(sdf, 'velocity_y', 1000);"
   ]
  },
  {
   "cell_type": "code",
   "execution_count": 9,
   "metadata": {},
   "outputs": [
    {
     "ename": "ValueError",
     "evalue": "Column center_x has a non-numeric type (ArrayType(DoubleType(), True)), only numeric types are supported",
     "output_type": "error",
     "traceback": [
      "\u001b[0;31m---------------------------------------------------------------------------\u001b[0m",
      "\u001b[0;31mValueError\u001b[0m                                Traceback (most recent call last)",
      "\u001b[1;32m/home/teofil/projects/big-data-analysis/test.ipynb Cell 7\u001b[0m in \u001b[0;36m<cell line: 5>\u001b[0;34m()\u001b[0m\n\u001b[1;32m      <a href='vscode-notebook-cell:/home/teofil/projects/big-data-analysis/test.ipynb#X30sZmlsZQ%3D%3D?line=1'>2</a>\u001b[0m \u001b[39mimport\u001b[39;00m \u001b[39mmatplotlib\u001b[39;00m\u001b[39m.\u001b[39;00m\u001b[39mpyplot\u001b[39;00m \u001b[39mas\u001b[39;00m \u001b[39mplt\u001b[39;00m\n\u001b[1;32m      <a href='vscode-notebook-cell:/home/teofil/projects/big-data-analysis/test.ipynb#X30sZmlsZQ%3D%3D?line=3'>4</a>\u001b[0m fig, ax \u001b[39m=\u001b[39m plt\u001b[39m.\u001b[39msubplots()\n\u001b[0;32m----> <a href='vscode-notebook-cell:/home/teofil/projects/big-data-analysis/test.ipynb#X30sZmlsZQ%3D%3D?line=4'>5</a>\u001b[0m hist(ax, sdf\u001b[39m.\u001b[39;49mselect(\u001b[39m'\u001b[39;49m\u001b[39mcenter_x\u001b[39;49m\u001b[39m'\u001b[39;49m), bins \u001b[39m=\u001b[39;49m \u001b[39m3\u001b[39;49m, color\u001b[39m=\u001b[39;49m[\u001b[39m'\u001b[39;49m\u001b[39mred\u001b[39;49m\u001b[39m'\u001b[39;49m])\n",
      "File \u001b[0;32m~/anaconda3/lib/python3.9/site-packages/pyspark_dist_explore/pyspark_dist_explore.py:53\u001b[0m, in \u001b[0;36mhist\u001b[0;34m(axis, x, overlapping, formatted_yaxis, **kwargs)\u001b[0m\n\u001b[1;32m     18\u001b[0m \u001b[39m\"\"\"Plots a histogram on an Axis object\u001b[39;00m\n\u001b[1;32m     19\u001b[0m \n\u001b[1;32m     20\u001b[0m \u001b[39mArgs:\u001b[39;00m\n\u001b[0;32m   (...)\u001b[0m\n\u001b[1;32m     50\u001b[0m \n\u001b[1;32m     51\u001b[0m \u001b[39m\"\"\"\u001b[39;00m\n\u001b[1;32m     52\u001b[0m histogram \u001b[39m=\u001b[39m create_histogram_object(kwargs)\n\u001b[0;32m---> 53\u001b[0m histogram\u001b[39m.\u001b[39;49madd_data(x)\n\u001b[1;32m     54\u001b[0m \u001b[39mreturn\u001b[39;00m histogram\u001b[39m.\u001b[39mplot_hist(axis, overlapping, formatted_yaxis, \u001b[39m*\u001b[39m\u001b[39m*\u001b[39mkwargs)\n",
      "File \u001b[0;32m~/anaconda3/lib/python3.9/site-packages/pyspark_dist_explore/pyspark_dist_explore.py:445\u001b[0m, in \u001b[0;36mHistogram.add_data\u001b[0;34m(self, data)\u001b[0m\n\u001b[1;32m    442\u001b[0m         \u001b[39mself\u001b[39m\u001b[39m.\u001b[39madd_column(data\u001b[39m.\u001b[39mselect(col_name))\n\u001b[1;32m    444\u001b[0m \u001b[39melse\u001b[39;00m:\n\u001b[0;32m--> 445\u001b[0m     \u001b[39mself\u001b[39;49m\u001b[39m.\u001b[39;49madd_column(data)\n",
      "File \u001b[0;32m~/anaconda3/lib/python3.9/site-packages/pyspark_dist_explore/pyspark_dist_explore.py:200\u001b[0m, in \u001b[0;36mHistogram.add_column\u001b[0;34m(self, table)\u001b[0m\n\u001b[1;32m    197\u001b[0m column_name \u001b[39m=\u001b[39m table\u001b[39m.\u001b[39mcolumns[\u001b[39m0\u001b[39m]\n\u001b[1;32m    199\u001b[0m \u001b[39mif\u001b[39;00m \u001b[39mnot\u001b[39;00m \u001b[39misinstance\u001b[39m(table\u001b[39m.\u001b[39mschema\u001b[39m.\u001b[39mfields[\u001b[39m0\u001b[39m]\u001b[39m.\u001b[39mdataType, NumericType):\n\u001b[0;32m--> 200\u001b[0m     \u001b[39mraise\u001b[39;00m \u001b[39mValueError\u001b[39;00m(\u001b[39m'\u001b[39m\u001b[39mColumn \u001b[39m\u001b[39m%s\u001b[39;00m\u001b[39m has a non-numeric type (\u001b[39m\u001b[39m%s\u001b[39;00m\u001b[39m), only numeric types are supported\u001b[39m\u001b[39m'\u001b[39m\n\u001b[1;32m    201\u001b[0m                      \u001b[39m%\u001b[39m (column_name, \u001b[39mstr\u001b[39m(table\u001b[39m.\u001b[39mschema\u001b[39m.\u001b[39mfields[\u001b[39m0\u001b[39m]\u001b[39m.\u001b[39mdataType)))\n\u001b[1;32m    203\u001b[0m \u001b[39mself\u001b[39m\u001b[39m.\u001b[39mcol_list\u001b[39m.\u001b[39mappend((table, column_name))\n",
      "\u001b[0;31mValueError\u001b[0m: Column center_x has a non-numeric type (ArrayType(DoubleType(), True)), only numeric types are supported"
     ]
    },
    {
     "data": {
      "image/png": "[encoded data removed]",
      "text/plain": [
       "<Figure size 432x288 with 1 Axes>"
      ]
     },
     "metadata": {
      "needs_background": "light"
     },
     "output_type": "display_data"
    }
   ],
   "source": [
    "from pyspark_dist_explore import hist\n",
    "import matplotlib.pyplot as plt\n",
    "\n",
    "fig, ax = plt.subplots()\n",
    "hist(ax, sdf.select('center_x'), bins = 3, color=['red'])"
   ]
  },
  {
   "cell_type": "code",
   "execution_count": 10,
   "metadata": {},
   "outputs": [
    {
     "ename": "AnalysisException",
     "evalue": "Can only star expand struct data types. Attribute: `ArrayBuffer(center_x)`",
     "output_type": "error",
     "traceback": [
      "\u001b[0;31m---------------------------------------------------------------------------\u001b[0m",
      "\u001b[0;31mAnalysisException\u001b[0m                         Traceback (most recent call last)",
      "\u001b[1;32m/home/teofil/projects/big-data-analysis/test.ipynb Cell 8\u001b[0m in \u001b[0;36m<cell line: 1>\u001b[0;34m()\u001b[0m\n\u001b[0;32m----> <a href='vscode-notebook-cell:/home/teofil/projects/big-data-analysis/test.ipynb#X25sZmlsZQ%3D%3D?line=0'>1</a>\u001b[0m hist \u001b[39m=\u001b[39m sdf\u001b[39m.\u001b[39;49mselect(\n\u001b[1;32m      <a href='vscode-notebook-cell:/home/teofil/projects/big-data-analysis/test.ipynb#X25sZmlsZQ%3D%3D?line=1'>2</a>\u001b[0m     \u001b[39m'\u001b[39;49m\u001b[39mcenter_x.*\u001b[39;49m\u001b[39m'\u001b[39;49m\n\u001b[1;32m      <a href='vscode-notebook-cell:/home/teofil/projects/big-data-analysis/test.ipynb#X25sZmlsZQ%3D%3D?line=2'>3</a>\u001b[0m )\u001b[39m.\u001b[39mrdd\u001b[39m.\u001b[39mflatMap(\n\u001b[1;32m      <a href='vscode-notebook-cell:/home/teofil/projects/big-data-analysis/test.ipynb#X25sZmlsZQ%3D%3D?line=3'>4</a>\u001b[0m     \u001b[39mlambda\u001b[39;00m x: x\n\u001b[1;32m      <a href='vscode-notebook-cell:/home/teofil/projects/big-data-analysis/test.ipynb#X25sZmlsZQ%3D%3D?line=4'>5</a>\u001b[0m )\u001b[39m.\u001b[39mtake(\u001b[39m10\u001b[39m)\n\u001b[1;32m      <a href='vscode-notebook-cell:/home/teofil/projects/big-data-analysis/test.ipynb#X25sZmlsZQ%3D%3D?line=5'>6</a>\u001b[0m hist\n",
      "File \u001b[0;32m~/anaconda3/lib/python3.9/site-packages/pyspark/sql/dataframe.py:2023\u001b[0m, in \u001b[0;36mDataFrame.select\u001b[0;34m(self, *cols)\u001b[0m\n\u001b[1;32m   2002\u001b[0m \u001b[39mdef\u001b[39;00m \u001b[39mselect\u001b[39m(\u001b[39mself\u001b[39m, \u001b[39m*\u001b[39mcols: \u001b[39m\"\u001b[39m\u001b[39mColumnOrName\u001b[39m\u001b[39m\"\u001b[39m) \u001b[39m-\u001b[39m\u001b[39m>\u001b[39m \u001b[39m\"\u001b[39m\u001b[39mDataFrame\u001b[39m\u001b[39m\"\u001b[39m:  \u001b[39m# type: ignore[misc]\u001b[39;00m\n\u001b[1;32m   2003\u001b[0m     \u001b[39m\"\"\"Projects a set of expressions and returns a new :class:`DataFrame`.\u001b[39;00m\n\u001b[1;32m   2004\u001b[0m \n\u001b[1;32m   2005\u001b[0m \u001b[39m    .. versionadded:: 1.3.0\u001b[39;00m\n\u001b[0;32m   (...)\u001b[0m\n\u001b[1;32m   2021\u001b[0m \u001b[39m    [Row(name='Alice', age=12), Row(name='Bob', age=15)]\u001b[39;00m\n\u001b[1;32m   2022\u001b[0m \u001b[39m    \"\"\"\u001b[39;00m\n\u001b[0;32m-> 2023\u001b[0m     jdf \u001b[39m=\u001b[39m \u001b[39mself\u001b[39;49m\u001b[39m.\u001b[39;49m_jdf\u001b[39m.\u001b[39;49mselect(\u001b[39mself\u001b[39;49m\u001b[39m.\u001b[39;49m_jcols(\u001b[39m*\u001b[39;49mcols))\n\u001b[1;32m   2024\u001b[0m     \u001b[39mreturn\u001b[39;00m DataFrame(jdf, \u001b[39mself\u001b[39m\u001b[39m.\u001b[39msparkSession)\n",
      "File \u001b[0;32m~/anaconda3/lib/python3.9/site-packages/py4j/java_gateway.py:1321\u001b[0m, in \u001b[0;36mJavaMember.__call__\u001b[0;34m(self, *args)\u001b[0m\n\u001b[1;32m   1315\u001b[0m command \u001b[39m=\u001b[39m proto\u001b[39m.\u001b[39mCALL_COMMAND_NAME \u001b[39m+\u001b[39m\\\n\u001b[1;32m   1316\u001b[0m     \u001b[39mself\u001b[39m\u001b[39m.\u001b[39mcommand_header \u001b[39m+\u001b[39m\\\n\u001b[1;32m   1317\u001b[0m     args_command \u001b[39m+\u001b[39m\\\n\u001b[1;32m   1318\u001b[0m     proto\u001b[39m.\u001b[39mEND_COMMAND_PART\n\u001b[1;32m   1320\u001b[0m answer \u001b[39m=\u001b[39m \u001b[39mself\u001b[39m\u001b[39m.\u001b[39mgateway_client\u001b[39m.\u001b[39msend_command(command)\n\u001b[0;32m-> 1321\u001b[0m return_value \u001b[39m=\u001b[39m get_return_value(\n\u001b[1;32m   1322\u001b[0m     answer, \u001b[39mself\u001b[39;49m\u001b[39m.\u001b[39;49mgateway_client, \u001b[39mself\u001b[39;49m\u001b[39m.\u001b[39;49mtarget_id, \u001b[39mself\u001b[39;49m\u001b[39m.\u001b[39;49mname)\n\u001b[1;32m   1324\u001b[0m \u001b[39mfor\u001b[39;00m temp_arg \u001b[39min\u001b[39;00m temp_args:\n\u001b[1;32m   1325\u001b[0m     temp_arg\u001b[39m.\u001b[39m_detach()\n",
      "File \u001b[0;32m~/anaconda3/lib/python3.9/site-packages/pyspark/sql/utils.py:196\u001b[0m, in \u001b[0;36mcapture_sql_exception.<locals>.deco\u001b[0;34m(*a, **kw)\u001b[0m\n\u001b[1;32m    192\u001b[0m converted \u001b[39m=\u001b[39m convert_exception(e\u001b[39m.\u001b[39mjava_exception)\n\u001b[1;32m    193\u001b[0m \u001b[39mif\u001b[39;00m \u001b[39mnot\u001b[39;00m \u001b[39misinstance\u001b[39m(converted, UnknownException):\n\u001b[1;32m    194\u001b[0m     \u001b[39m# Hide where the exception came from that shows a non-Pythonic\u001b[39;00m\n\u001b[1;32m    195\u001b[0m     \u001b[39m# JVM exception message.\u001b[39;00m\n\u001b[0;32m--> 196\u001b[0m     \u001b[39mraise\u001b[39;00m converted \u001b[39mfrom\u001b[39;00m \u001b[39mNone\u001b[39m\n\u001b[1;32m    197\u001b[0m \u001b[39melse\u001b[39;00m:\n\u001b[1;32m    198\u001b[0m     \u001b[39mraise\u001b[39;00m\n",
      "\u001b[0;31mAnalysisException\u001b[0m: Can only star expand struct data types. Attribute: `ArrayBuffer(center_x)`"
     ]
    }
   ],
   "source": [
    "hist = sdf.select(\n",
    "    $'center_x.*'\n",
    ").rdd.flatMap(\n",
    "    lambda x: x\n",
    ").take(10)\n"
   ]
  },
  {
   "cell_type": "code",
   "execution_count": 23,
   "metadata": {},
   "outputs": [
    {
     "ename": "AnalysisException",
     "evalue": "cannot resolve 'flatten(center_x)' due to data type mismatch: The argument should be an array of arrays, but 'center_x' is of array<double> type.;\n'Project [flatten(center_x#4) AS r#55]\n+- Project [scenario_id#1, track_id#2L, object_type#3L, center_x#4, center_y#5, center_z#6, heading#7, velocity_x#8, velocity_y#9, valid#10]\n   +- Project [__index_level_0__#0L, scenario_id#1, track_id#2L, object_type#3L, center_x#4, center_y#5, center_z#6, heading#7, velocity_x#8, velocity_y#9, valid#10, monotonically_increasing_id() AS __natural_order__#22L]\n      +- LogicalRDD [__index_level_0__#0L, scenario_id#1, track_id#2L, object_type#3L, center_x#4, center_y#5, center_z#6, heading#7, velocity_x#8, velocity_y#9, valid#10], false\n",
     "output_type": "error",
     "traceback": [
      "\u001b[0;31m---------------------------------------------------------------------------\u001b[0m",
      "\u001b[0;31mAnalysisException\u001b[0m                         Traceback (most recent call last)",
      "\u001b[1;32m/home/teofil/projects/big-data-analysis/test.ipynb Cell 10\u001b[0m in \u001b[0;36m<cell line: 2>\u001b[0;34m()\u001b[0m\n\u001b[1;32m      <a href='vscode-notebook-cell:/home/teofil/projects/big-data-analysis/test.ipynb#X26sZmlsZQ%3D%3D?line=0'>1</a>\u001b[0m \u001b[39mfrom\u001b[39;00m \u001b[39mpyspark\u001b[39;00m\u001b[39m.\u001b[39;00m\u001b[39msql\u001b[39;00m\u001b[39m.\u001b[39;00m\u001b[39mfunctions\u001b[39;00m \u001b[39mimport\u001b[39;00m flatten\n\u001b[0;32m----> <a href='vscode-notebook-cell:/home/teofil/projects/big-data-analysis/test.ipynb#X26sZmlsZQ%3D%3D?line=1'>2</a>\u001b[0m sdf\u001b[39m.\u001b[39;49mselect(flatten(sdf\u001b[39m.\u001b[39;49mcenter_x)\u001b[39m.\u001b[39;49malias(\u001b[39m'\u001b[39;49m\u001b[39mr\u001b[39;49m\u001b[39m'\u001b[39;49m))\u001b[39m.\u001b[39mcollect()\n",
      "File \u001b[0;32m~/anaconda3/lib/python3.9/site-packages/pyspark/sql/dataframe.py:2023\u001b[0m, in \u001b[0;36mDataFrame.select\u001b[0;34m(self, *cols)\u001b[0m\n\u001b[1;32m   2002\u001b[0m \u001b[39mdef\u001b[39;00m \u001b[39mselect\u001b[39m(\u001b[39mself\u001b[39m, \u001b[39m*\u001b[39mcols: \u001b[39m\"\u001b[39m\u001b[39mColumnOrName\u001b[39m\u001b[39m\"\u001b[39m) \u001b[39m-\u001b[39m\u001b[39m>\u001b[39m \u001b[39m\"\u001b[39m\u001b[39mDataFrame\u001b[39m\u001b[39m\"\u001b[39m:  \u001b[39m# type: ignore[misc]\u001b[39;00m\n\u001b[1;32m   2003\u001b[0m     \u001b[39m\"\"\"Projects a set of expressions and returns a new :class:`DataFrame`.\u001b[39;00m\n\u001b[1;32m   2004\u001b[0m \n\u001b[1;32m   2005\u001b[0m \u001b[39m    .. versionadded:: 1.3.0\u001b[39;00m\n\u001b[0;32m   (...)\u001b[0m\n\u001b[1;32m   2021\u001b[0m \u001b[39m    [Row(name='Alice', age=12), Row(name='Bob', age=15)]\u001b[39;00m\n\u001b[1;32m   2022\u001b[0m \u001b[39m    \"\"\"\u001b[39;00m\n\u001b[0;32m-> 2023\u001b[0m     jdf \u001b[39m=\u001b[39m \u001b[39mself\u001b[39;49m\u001b[39m.\u001b[39;49m_jdf\u001b[39m.\u001b[39;49mselect(\u001b[39mself\u001b[39;49m\u001b[39m.\u001b[39;49m_jcols(\u001b[39m*\u001b[39;49mcols))\n\u001b[1;32m   2024\u001b[0m     \u001b[39mreturn\u001b[39;00m DataFrame(jdf, \u001b[39mself\u001b[39m\u001b[39m.\u001b[39msparkSession)\n",
      "File \u001b[0;32m~/anaconda3/lib/python3.9/site-packages/py4j/java_gateway.py:1321\u001b[0m, in \u001b[0;36mJavaMember.__call__\u001b[0;34m(self, *args)\u001b[0m\n\u001b[1;32m   1315\u001b[0m command \u001b[39m=\u001b[39m proto\u001b[39m.\u001b[39mCALL_COMMAND_NAME \u001b[39m+\u001b[39m\\\n\u001b[1;32m   1316\u001b[0m     \u001b[39mself\u001b[39m\u001b[39m.\u001b[39mcommand_header \u001b[39m+\u001b[39m\\\n\u001b[1;32m   1317\u001b[0m     args_command \u001b[39m+\u001b[39m\\\n\u001b[1;32m   1318\u001b[0m     proto\u001b[39m.\u001b[39mEND_COMMAND_PART\n\u001b[1;32m   1320\u001b[0m answer \u001b[39m=\u001b[39m \u001b[39mself\u001b[39m\u001b[39m.\u001b[39mgateway_client\u001b[39m.\u001b[39msend_command(command)\n\u001b[0;32m-> 1321\u001b[0m return_value \u001b[39m=\u001b[39m get_return_value(\n\u001b[1;32m   1322\u001b[0m     answer, \u001b[39mself\u001b[39;49m\u001b[39m.\u001b[39;49mgateway_client, \u001b[39mself\u001b[39;49m\u001b[39m.\u001b[39;49mtarget_id, \u001b[39mself\u001b[39;49m\u001b[39m.\u001b[39;49mname)\n\u001b[1;32m   1324\u001b[0m \u001b[39mfor\u001b[39;00m temp_arg \u001b[39min\u001b[39;00m temp_args:\n\u001b[1;32m   1325\u001b[0m     temp_arg\u001b[39m.\u001b[39m_detach()\n",
      "File \u001b[0;32m~/anaconda3/lib/python3.9/site-packages/pyspark/sql/utils.py:196\u001b[0m, in \u001b[0;36mcapture_sql_exception.<locals>.deco\u001b[0;34m(*a, **kw)\u001b[0m\n\u001b[1;32m    192\u001b[0m converted \u001b[39m=\u001b[39m convert_exception(e\u001b[39m.\u001b[39mjava_exception)\n\u001b[1;32m    193\u001b[0m \u001b[39mif\u001b[39;00m \u001b[39mnot\u001b[39;00m \u001b[39misinstance\u001b[39m(converted, UnknownException):\n\u001b[1;32m    194\u001b[0m     \u001b[39m# Hide where the exception came from that shows a non-Pythonic\u001b[39;00m\n\u001b[1;32m    195\u001b[0m     \u001b[39m# JVM exception message.\u001b[39;00m\n\u001b[0;32m--> 196\u001b[0m     \u001b[39mraise\u001b[39;00m converted \u001b[39mfrom\u001b[39;00m \u001b[39mNone\u001b[39m\n\u001b[1;32m    197\u001b[0m \u001b[39melse\u001b[39;00m:\n\u001b[1;32m    198\u001b[0m     \u001b[39mraise\u001b[39;00m\n",
      "\u001b[0;31mAnalysisException\u001b[0m: cannot resolve 'flatten(center_x)' due to data type mismatch: The argument should be an array of arrays, but 'center_x' is of array<double> type.;\n'Project [flatten(center_x#4) AS r#55]\n+- Project [scenario_id#1, track_id#2L, object_type#3L, center_x#4, center_y#5, center_z#6, heading#7, velocity_x#8, velocity_y#9, valid#10]\n   +- Project [__index_level_0__#0L, scenario_id#1, track_id#2L, object_type#3L, center_x#4, center_y#5, center_z#6, heading#7, velocity_x#8, velocity_y#9, valid#10, monotonically_increasing_id() AS __natural_order__#22L]\n      +- LogicalRDD [__index_level_0__#0L, scenario_id#1, track_id#2L, object_type#3L, center_x#4, center_y#5, center_z#6, heading#7, velocity_x#8, velocity_y#9, valid#10], false\n"
     ]
    }
   ],
   "source": [
    "from pyspark.sql.functions import flatten\n",
    "sdf.select(flatten(sdf.center_x).alias('r')).collect()\n",
    "# sdf.select(sdf.center_x).take(1)"
   ]
  },
  {
   "cell_type": "code",
   "execution_count": null,
   "metadata": {},
   "outputs": [],
   "source": [
    "plot_hist(sdf, 'valid', 2, x_strings=[\"VEHICLE\", \"PEDESTRIAN\", \"CYCLIST\"])"
   ]
  },
  {
   "cell_type": "code",
   "execution_count": null,
   "metadata": {},
   "outputs": [],
   "source": [
    "# TODO:\n",
    "\"\"\"\n",
    " - hist(state, distante, valid)\n",
    "    - heading\n",
    "    - velocity \n",
    "    - \n",
    " - track-uri suprapuse\n",
    " - speed_limit_mph\n",
    " - hist pe lane types https://github.com/waymo-research/waymo-open-dataset/blob/master/waymo_open_dataset/protos/map.proto#L146\n",
    " - stop sign \n",
    "\n",
    " - free ahead\n",
    " - chaning lanes\n",
    " - TrafficSignalLaneState https://github.com/waymo-research/waymo-open-dataset/blob/master/waymo_open_dataset/protos/map.proto\n",
    " - conditionare pe train/validation\n",
    "\"\"\"\n",
    "\n",
    "# DONE\n",
    "\"\"\"\n",
    " - object type distribution\n",
    "\"\"\""
   ]
  }
 ],
 "metadata": {
  "kernelspec": {
   "display_name": "Python 3.9.12 ('base')",
   "language": "python",
   "name": "python3"
  },
  "language_info": {
   "codemirror_mode": {
    "name": "ipython",
    "version": 3
   },
   "file_extension": ".py",
   "mimetype": "text/x-python",
   "name": "python",
   "nbconvert_exporter": "python",
   "pygments_lexer": "ipython3",
   "version": "3.9.12"
  },
  "orig_nbformat": 4,
  "vscode": {
   "interpreter": {
    "hash": "4c8c64fe6394f8c6d5b8a5193d3a141afbb97a1d54d6543aa8fb332fd075e3a0"
   }
  }
 },
 "nbformat": 4,
 "nbformat_minor": 2
}
